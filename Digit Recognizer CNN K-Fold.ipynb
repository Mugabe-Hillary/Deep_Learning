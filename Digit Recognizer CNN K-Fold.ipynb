{
 "cells": [
  {
   "cell_type": "code",
   "execution_count": 1,
   "id": "e5b1f4e6",
   "metadata": {
    "_cell_guid": "b1076dfc-b9ad-4769-8c92-a6c4dae69d19",
    "_uuid": "8f2839f25d086af736a60e9eeb907d3b93b6e0e5",
    "execution": {
     "iopub.execute_input": "2024-09-19T11:52:57.855684Z",
     "iopub.status.busy": "2024-09-19T11:52:57.855049Z",
     "iopub.status.idle": "2024-09-19T11:53:11.877567Z",
     "shell.execute_reply": "2024-09-19T11:53:11.876766Z"
    },
    "papermill": {
     "duration": 14.02992,
     "end_time": "2024-09-19T11:53:11.879917",
     "exception": false,
     "start_time": "2024-09-19T11:52:57.849997",
     "status": "completed"
    },
    "tags": []
   },
   "outputs": [],
   "source": [
    "import os\n",
    "import numpy as np\n",
    "import pandas as pd\n",
    "import matplotlib.pyplot as plt\n",
    "import seaborn as sns\n",
    "import tensorflow as tf\n",
    "from tensorflow.keras.models import Sequential\n",
    "from tensorflow.keras.layers import Dense, Dropout, Flatten, Conv2D, MaxPooling2D\n",
    "from tensorflow.keras.utils import to_categorical\n",
    "from tensorflow.keras.layers import Input\n",
    "from tensorflow.keras.callbacks import ModelCheckpoint, LearningRateScheduler, History,ReduceLROnPlateau, EarlyStopping\n",
    "from sklearn.model_selection import KFold\n",
    "from sklearn.preprocessing import StandardScaler\n",
    "from sklearn.model_selection import train_test_split"
   ]
  },
  {
   "cell_type": "code",
   "execution_count": 2,
   "id": "7c980594",
   "metadata": {
    "execution": {
     "iopub.execute_input": "2024-09-19T11:53:11.889122Z",
     "iopub.status.busy": "2024-09-19T11:53:11.888120Z",
     "iopub.status.idle": "2024-09-19T11:53:17.338945Z",
     "shell.execute_reply": "2024-09-19T11:53:17.338070Z"
    },
    "papermill": {
     "duration": 5.457463,
     "end_time": "2024-09-19T11:53:17.341346",
     "exception": false,
     "start_time": "2024-09-19T11:53:11.883883",
     "status": "completed"
    },
    "tags": []
   },
   "outputs": [],
   "source": [
    " #Loading dataset\n",
    "train_data = pd.read_csv('/kaggle/input/digit-recognizer/train.csv')\n",
    "test_data = pd.read_csv('/kaggle/input/digit-recognizer/test.csv')\n"
   ]
  },
  {
   "cell_type": "code",
   "execution_count": 3,
   "id": "6594e6d6",
   "metadata": {
    "execution": {
     "iopub.execute_input": "2024-09-19T11:53:17.349998Z",
     "iopub.status.busy": "2024-09-19T11:53:17.349618Z",
     "iopub.status.idle": "2024-09-19T11:53:17.436283Z",
     "shell.execute_reply": "2024-09-19T11:53:17.435285Z"
    },
    "papermill": {
     "duration": 0.093694,
     "end_time": "2024-09-19T11:53:17.438823",
     "exception": false,
     "start_time": "2024-09-19T11:53:17.345129",
     "status": "completed"
    },
    "tags": []
   },
   "outputs": [],
   "source": [
    "# Data preprocessing\n",
    "X = train_data.drop(columns=['label'], axis=1)\n",
    "y = train_data['label']"
   ]
  },
  {
   "cell_type": "code",
   "execution_count": 4,
   "id": "2a477ea5",
   "metadata": {
    "execution": {
     "iopub.execute_input": "2024-09-19T11:53:17.447559Z",
     "iopub.status.busy": "2024-09-19T11:53:17.447207Z",
     "iopub.status.idle": "2024-09-19T11:53:17.505160Z",
     "shell.execute_reply": "2024-09-19T11:53:17.504381Z"
    },
    "papermill": {
     "duration": 0.064688,
     "end_time": "2024-09-19T11:53:17.507416",
     "exception": false,
     "start_time": "2024-09-19T11:53:17.442728",
     "status": "completed"
    },
    "tags": []
   },
   "outputs": [],
   "source": [
    "# Normalizing the pixel values (between 0 and 1)\n",
    "X = X / 255.0\n",
    "\n",
    "# Reshaping X to be 3D - (number of images, 28, 28, 1) for the CNN input\n",
    "X = X.values.reshape(-1, 28, 28, 1)\n",
    "\n",
    "# Converting labels to one-hot encoded vectors\n",
    "y = to_categorical(y, num_classes=10)"
   ]
  },
  {
   "cell_type": "code",
   "execution_count": 5,
   "id": "8f7a4535",
   "metadata": {
    "execution": {
     "iopub.execute_input": "2024-09-19T11:53:17.515748Z",
     "iopub.status.busy": "2024-09-19T11:53:17.515225Z",
     "iopub.status.idle": "2024-09-19T11:53:18.269380Z",
     "shell.execute_reply": "2024-09-19T11:53:18.268505Z"
    },
    "papermill": {
     "duration": 0.760625,
     "end_time": "2024-09-19T11:53:18.271684",
     "exception": false,
     "start_time": "2024-09-19T11:53:17.511059",
     "status": "completed"
    },
    "tags": []
   },
   "outputs": [],
   "source": [
    "# Initialize KFold cross-validation\n",
    "kf = KFold(n_splits=5, shuffle=True, random_state=42)\n",
    "\n",
    "# Placeholder for storing cross-validation results\n",
    "fold_accuracies = []\n",
    "\n",
    "# Iterate over each fold\n",
    "for train_index, val_index in kf.split(X):\n",
    "    # Split data into train and validation sets for this fold\n",
    "    X_train_fold, X_val_fold = X[train_index], X[val_index]\n",
    "    y_train_fold, y_val_fold = y[train_index], y[val_index]"
   ]
  },
  {
   "cell_type": "code",
   "execution_count": 6,
   "id": "8c99e8ff",
   "metadata": {
    "execution": {
     "iopub.execute_input": "2024-09-19T11:53:18.279803Z",
     "iopub.status.busy": "2024-09-19T11:53:18.279461Z",
     "iopub.status.idle": "2024-09-19T11:53:19.075613Z",
     "shell.execute_reply": "2024-09-19T11:53:19.074698Z"
    },
    "papermill": {
     "duration": 0.802623,
     "end_time": "2024-09-19T11:53:19.077794",
     "exception": false,
     "start_time": "2024-09-19T11:53:18.275171",
     "status": "completed"
    },
    "tags": []
   },
   "outputs": [],
   "source": [
    "    # Build the CNN model\n",
    "    model = Sequential()\n",
    "    model.add(Input(shape=(28, 28, 1)))  # Input layer with the correct shape\n",
    "    model.add(Conv2D(32, kernel_size=(3, 3), activation='relu'))\n",
    "    model.add(Conv2D(64, kernel_size=(3, 3), activation='relu'))\n",
    "    model.add(MaxPooling2D(pool_size=(2, 2)))\n",
    "    model.add(Dropout(0.25))\n",
    "    model.add(Flatten())\n",
    "    model.add(Dense(128, activation='relu'))\n",
    "    model.add(Dropout(0.5))\n",
    "    model.add(Dense(10, activation='softmax'))"
   ]
  },
  {
   "cell_type": "code",
   "execution_count": 7,
   "id": "9a0000e7",
   "metadata": {
    "execution": {
     "iopub.execute_input": "2024-09-19T11:53:19.086488Z",
     "iopub.status.busy": "2024-09-19T11:53:19.085748Z",
     "iopub.status.idle": "2024-09-19T11:54:54.763227Z",
     "shell.execute_reply": "2024-09-19T11:54:54.762200Z"
    },
    "papermill": {
     "duration": 95.684076,
     "end_time": "2024-09-19T11:54:54.765446",
     "exception": false,
     "start_time": "2024-09-19T11:53:19.081370",
     "status": "completed"
    },
    "tags": []
   },
   "outputs": [
    {
     "name": "stdout",
     "output_type": "stream",
     "text": [
      "Epoch 1/50\n"
     ]
    },
    {
     "name": "stderr",
     "output_type": "stream",
     "text": [
      "WARNING: All log messages before absl::InitializeLog() is called are written to STDERR\n",
      "I0000 00:00:1726746800.671016      66 service.cc:145] XLA service 0x7ee2a8005e40 initialized for platform CUDA (this does not guarantee that XLA will be used). Devices:\n",
      "I0000 00:00:1726746800.671076      66 service.cc:153]   StreamExecutor device (0): Tesla P100-PCIE-16GB, Compute Capability 6.0\n"
     ]
    },
    {
     "name": "stdout",
     "output_type": "stream",
     "text": [
      "\u001b[1m 51/525\u001b[0m \u001b[32m━\u001b[0m\u001b[37m━━━━━━━━━━━━━━━━━━━\u001b[0m \u001b[1m1s\u001b[0m 3ms/step - accuracy: 0.5157 - loss: 1.4311"
     ]
    },
    {
     "name": "stderr",
     "output_type": "stream",
     "text": [
      "I0000 00:00:1726746805.081194      66 device_compiler.h:188] Compiled cluster using XLA!  This line is logged at most once for the lifetime of the process.\n"
     ]
    },
    {
     "name": "stdout",
     "output_type": "stream",
     "text": [
      "\u001b[1m525/525\u001b[0m \u001b[32m━━━━━━━━━━━━━━━━━━━━\u001b[0m\u001b[37m\u001b[0m \u001b[1m8s\u001b[0m 5ms/step - accuracy: 0.8244 - loss: 0.5491 - val_accuracy: 0.9805 - val_loss: 0.0671 - learning_rate: 0.0010\n",
      "Epoch 2/50\n",
      "\u001b[1m525/525\u001b[0m \u001b[32m━━━━━━━━━━━━━━━━━━━━\u001b[0m\u001b[37m\u001b[0m \u001b[1m2s\u001b[0m 3ms/step - accuracy: 0.9700 - loss: 0.1017 - val_accuracy: 0.9832 - val_loss: 0.0630 - learning_rate: 0.0010\n",
      "Epoch 3/50\n",
      "\u001b[1m525/525\u001b[0m \u001b[32m━━━━━━━━━━━━━━━━━━━━\u001b[0m\u001b[37m\u001b[0m \u001b[1m2s\u001b[0m 3ms/step - accuracy: 0.9772 - loss: 0.0732 - val_accuracy: 0.9860 - val_loss: 0.0526 - learning_rate: 0.0010\n",
      "Epoch 4/50\n",
      "\u001b[1m525/525\u001b[0m \u001b[32m━━━━━━━━━━━━━━━━━━━━\u001b[0m\u001b[37m\u001b[0m \u001b[1m2s\u001b[0m 3ms/step - accuracy: 0.9826 - loss: 0.0583 - val_accuracy: 0.9886 - val_loss: 0.0463 - learning_rate: 0.0010\n",
      "Epoch 5/50\n",
      "\u001b[1m525/525\u001b[0m \u001b[32m━━━━━━━━━━━━━━━━━━━━\u001b[0m\u001b[37m\u001b[0m \u001b[1m2s\u001b[0m 3ms/step - accuracy: 0.9857 - loss: 0.0465 - val_accuracy: 0.9880 - val_loss: 0.0516 - learning_rate: 0.0010\n",
      "Epoch 6/50\n",
      "\u001b[1m525/525\u001b[0m \u001b[32m━━━━━━━━━━━━━━━━━━━━\u001b[0m\u001b[37m\u001b[0m \u001b[1m2s\u001b[0m 3ms/step - accuracy: 0.9874 - loss: 0.0393 - val_accuracy: 0.9880 - val_loss: 0.0518 - learning_rate: 0.0010\n",
      "Epoch 7/50\n",
      "\u001b[1m525/525\u001b[0m \u001b[32m━━━━━━━━━━━━━━━━━━━━\u001b[0m\u001b[37m\u001b[0m \u001b[1m2s\u001b[0m 3ms/step - accuracy: 0.9888 - loss: 0.0342 - val_accuracy: 0.9880 - val_loss: 0.0473 - learning_rate: 0.0010\n",
      "Epoch 8/50\n",
      "\u001b[1m525/525\u001b[0m \u001b[32m━━━━━━━━━━━━━━━━━━━━\u001b[0m\u001b[37m\u001b[0m \u001b[1m2s\u001b[0m 3ms/step - accuracy: 0.9916 - loss: 0.0266 - val_accuracy: 0.9899 - val_loss: 0.0458 - learning_rate: 5.0000e-04\n",
      "Epoch 9/50\n",
      "\u001b[1m525/525\u001b[0m \u001b[32m━━━━━━━━━━━━━━━━━━━━\u001b[0m\u001b[37m\u001b[0m \u001b[1m2s\u001b[0m 3ms/step - accuracy: 0.9934 - loss: 0.0204 - val_accuracy: 0.9896 - val_loss: 0.0500 - learning_rate: 5.0000e-04\n",
      "Epoch 10/50\n",
      "\u001b[1m525/525\u001b[0m \u001b[32m━━━━━━━━━━━━━━━━━━━━\u001b[0m\u001b[37m\u001b[0m \u001b[1m2s\u001b[0m 3ms/step - accuracy: 0.9932 - loss: 0.0196 - val_accuracy: 0.9888 - val_loss: 0.0519 - learning_rate: 5.0000e-04\n",
      "Epoch 11/50\n",
      "\u001b[1m525/525\u001b[0m \u001b[32m━━━━━━━━━━━━━━━━━━━━\u001b[0m\u001b[37m\u001b[0m \u001b[1m2s\u001b[0m 3ms/step - accuracy: 0.9938 - loss: 0.0180 - val_accuracy: 0.9882 - val_loss: 0.0585 - learning_rate: 5.0000e-04\n",
      "Epoch 12/50\n",
      "\u001b[1m525/525\u001b[0m \u001b[32m━━━━━━━━━━━━━━━━━━━━\u001b[0m\u001b[37m\u001b[0m \u001b[1m2s\u001b[0m 3ms/step - accuracy: 0.9952 - loss: 0.0145 - val_accuracy: 0.9896 - val_loss: 0.0535 - learning_rate: 2.5000e-04\n",
      "Epoch 13/50\n",
      "\u001b[1m525/525\u001b[0m \u001b[32m━━━━━━━━━━━━━━━━━━━━\u001b[0m\u001b[37m\u001b[0m \u001b[1m2s\u001b[0m 3ms/step - accuracy: 0.9962 - loss: 0.0111 - val_accuracy: 0.9896 - val_loss: 0.0553 - learning_rate: 2.5000e-04\n",
      "Epoch 14/50\n",
      "\u001b[1m525/525\u001b[0m \u001b[32m━━━━━━━━━━━━━━━━━━━━\u001b[0m\u001b[37m\u001b[0m \u001b[1m2s\u001b[0m 4ms/step - accuracy: 0.9964 - loss: 0.0115 - val_accuracy: 0.9904 - val_loss: 0.0560 - learning_rate: 2.5000e-04\n",
      "Epoch 15/50\n",
      "\u001b[1m525/525\u001b[0m \u001b[32m━━━━━━━━━━━━━━━━━━━━\u001b[0m\u001b[37m\u001b[0m \u001b[1m2s\u001b[0m 3ms/step - accuracy: 0.9960 - loss: 0.0113 - val_accuracy: 0.9895 - val_loss: 0.0571 - learning_rate: 1.2500e-04\n",
      "Epoch 16/50\n",
      "\u001b[1m525/525\u001b[0m \u001b[32m━━━━━━━━━━━━━━━━━━━━\u001b[0m\u001b[37m\u001b[0m \u001b[1m2s\u001b[0m 3ms/step - accuracy: 0.9974 - loss: 0.0081 - val_accuracy: 0.9896 - val_loss: 0.0576 - learning_rate: 1.2500e-04\n",
      "Epoch 17/50\n",
      "\u001b[1m525/525\u001b[0m \u001b[32m━━━━━━━━━━━━━━━━━━━━\u001b[0m\u001b[37m\u001b[0m \u001b[1m2s\u001b[0m 3ms/step - accuracy: 0.9970 - loss: 0.0081 - val_accuracy: 0.9902 - val_loss: 0.0588 - learning_rate: 1.2500e-04\n",
      "Epoch 18/50\n",
      "\u001b[1m525/525\u001b[0m \u001b[32m━━━━━━━━━━━━━━━━━━━━\u001b[0m\u001b[37m\u001b[0m \u001b[1m2s\u001b[0m 3ms/step - accuracy: 0.9971 - loss: 0.0085 - val_accuracy: 0.9899 - val_loss: 0.0584 - learning_rate: 6.2500e-05\n",
      "Epoch 19/50\n",
      "\u001b[1m525/525\u001b[0m \u001b[32m━━━━━━━━━━━━━━━━━━━━\u001b[0m\u001b[37m\u001b[0m \u001b[1m2s\u001b[0m 3ms/step - accuracy: 0.9980 - loss: 0.0062 - val_accuracy: 0.9900 - val_loss: 0.0613 - learning_rate: 6.2500e-05\n",
      "Epoch 20/50\n",
      "\u001b[1m525/525\u001b[0m \u001b[32m━━━━━━━━━━━━━━━━━━━━\u001b[0m\u001b[37m\u001b[0m \u001b[1m2s\u001b[0m 3ms/step - accuracy: 0.9971 - loss: 0.0078 - val_accuracy: 0.9905 - val_loss: 0.0605 - learning_rate: 6.2500e-05\n",
      "Epoch 21/50\n",
      "\u001b[1m525/525\u001b[0m \u001b[32m━━━━━━━━━━━━━━━━━━━━\u001b[0m\u001b[37m\u001b[0m \u001b[1m2s\u001b[0m 4ms/step - accuracy: 0.9971 - loss: 0.0083 - val_accuracy: 0.9906 - val_loss: 0.0602 - learning_rate: 3.1250e-05\n",
      "Epoch 22/50\n",
      "\u001b[1m525/525\u001b[0m \u001b[32m━━━━━━━━━━━━━━━━━━━━\u001b[0m\u001b[37m\u001b[0m \u001b[1m2s\u001b[0m 3ms/step - accuracy: 0.9979 - loss: 0.0065 - val_accuracy: 0.9905 - val_loss: 0.0605 - learning_rate: 3.1250e-05\n",
      "Epoch 23/50\n",
      "\u001b[1m525/525\u001b[0m \u001b[32m━━━━━━━━━━━━━━━━━━━━\u001b[0m\u001b[37m\u001b[0m \u001b[1m2s\u001b[0m 3ms/step - accuracy: 0.9983 - loss: 0.0065 - val_accuracy: 0.9905 - val_loss: 0.0611 - learning_rate: 3.1250e-05\n",
      "Epoch 24/50\n",
      "\u001b[1m525/525\u001b[0m \u001b[32m━━━━━━━━━━━━━━━━━━━━\u001b[0m\u001b[37m\u001b[0m \u001b[1m2s\u001b[0m 3ms/step - accuracy: 0.9979 - loss: 0.0061 - val_accuracy: 0.9905 - val_loss: 0.0616 - learning_rate: 1.5625e-05\n",
      "Epoch 25/50\n",
      "\u001b[1m525/525\u001b[0m \u001b[32m━━━━━━━━━━━━━━━━━━━━\u001b[0m\u001b[37m\u001b[0m \u001b[1m2s\u001b[0m 3ms/step - accuracy: 0.9977 - loss: 0.0070 - val_accuracy: 0.9907 - val_loss: 0.0611 - learning_rate: 1.5625e-05\n",
      "Epoch 26/50\n",
      "\u001b[1m525/525\u001b[0m \u001b[32m━━━━━━━━━━━━━━━━━━━━\u001b[0m\u001b[37m\u001b[0m \u001b[1m2s\u001b[0m 3ms/step - accuracy: 0.9969 - loss: 0.0076 - val_accuracy: 0.9905 - val_loss: 0.0616 - learning_rate: 1.5625e-05\n",
      "Epoch 27/50\n",
      "\u001b[1m525/525\u001b[0m \u001b[32m━━━━━━━━━━━━━━━━━━━━\u001b[0m\u001b[37m\u001b[0m \u001b[1m2s\u001b[0m 3ms/step - accuracy: 0.9978 - loss: 0.0068 - val_accuracy: 0.9907 - val_loss: 0.0615 - learning_rate: 1.0000e-05\n",
      "Epoch 28/50\n",
      "\u001b[1m525/525\u001b[0m \u001b[32m━━━━━━━━━━━━━━━━━━━━\u001b[0m\u001b[37m\u001b[0m \u001b[1m2s\u001b[0m 3ms/step - accuracy: 0.9981 - loss: 0.0062 - val_accuracy: 0.9907 - val_loss: 0.0616 - learning_rate: 1.0000e-05\n",
      "Epoch 29/50\n",
      "\u001b[1m525/525\u001b[0m \u001b[32m━━━━━━━━━━━━━━━━━━━━\u001b[0m\u001b[37m\u001b[0m \u001b[1m2s\u001b[0m 3ms/step - accuracy: 0.9981 - loss: 0.0055 - val_accuracy: 0.9906 - val_loss: 0.0617 - learning_rate: 1.0000e-05\n",
      "Epoch 30/50\n",
      "\u001b[1m525/525\u001b[0m \u001b[32m━━━━━━━━━━━━━━━━━━━━\u001b[0m\u001b[37m\u001b[0m \u001b[1m2s\u001b[0m 3ms/step - accuracy: 0.9976 - loss: 0.0057 - val_accuracy: 0.9904 - val_loss: 0.0623 - learning_rate: 1.0000e-05\n",
      "Epoch 31/50\n",
      "\u001b[1m525/525\u001b[0m \u001b[32m━━━━━━━━━━━━━━━━━━━━\u001b[0m\u001b[37m\u001b[0m \u001b[1m2s\u001b[0m 3ms/step - accuracy: 0.9987 - loss: 0.0050 - val_accuracy: 0.9906 - val_loss: 0.0621 - learning_rate: 1.0000e-05\n",
      "Epoch 32/50\n",
      "\u001b[1m525/525\u001b[0m \u001b[32m━━━━━━━━━━━━━━━━━━━━\u001b[0m\u001b[37m\u001b[0m \u001b[1m2s\u001b[0m 3ms/step - accuracy: 0.9976 - loss: 0.0069 - val_accuracy: 0.9907 - val_loss: 0.0618 - learning_rate: 1.0000e-05\n",
      "Epoch 33/50\n",
      "\u001b[1m525/525\u001b[0m \u001b[32m━━━━━━━━━━━━━━━━━━━━\u001b[0m\u001b[37m\u001b[0m \u001b[1m2s\u001b[0m 4ms/step - accuracy: 0.9979 - loss: 0.0063 - val_accuracy: 0.9905 - val_loss: 0.0627 - learning_rate: 1.0000e-05\n",
      "Epoch 34/50\n",
      "\u001b[1m525/525\u001b[0m \u001b[32m━━━━━━━━━━━━━━━━━━━━\u001b[0m\u001b[37m\u001b[0m \u001b[1m2s\u001b[0m 3ms/step - accuracy: 0.9974 - loss: 0.0063 - val_accuracy: 0.9905 - val_loss: 0.0625 - learning_rate: 1.0000e-05\n",
      "Epoch 35/50\n",
      "\u001b[1m525/525\u001b[0m \u001b[32m━━━━━━━━━━━━━━━━━━━━\u001b[0m\u001b[37m\u001b[0m \u001b[1m2s\u001b[0m 3ms/step - accuracy: 0.9980 - loss: 0.0062 - val_accuracy: 0.9905 - val_loss: 0.0625 - learning_rate: 1.0000e-05\n",
      "Epoch 36/50\n",
      "\u001b[1m525/525\u001b[0m \u001b[32m━━━━━━━━━━━━━━━━━━━━\u001b[0m\u001b[37m\u001b[0m \u001b[1m2s\u001b[0m 3ms/step - accuracy: 0.9984 - loss: 0.0053 - val_accuracy: 0.9905 - val_loss: 0.0625 - learning_rate: 1.0000e-05\n",
      "Epoch 37/50\n",
      "\u001b[1m525/525\u001b[0m \u001b[32m━━━━━━━━━━━━━━━━━━━━\u001b[0m\u001b[37m\u001b[0m \u001b[1m2s\u001b[0m 3ms/step - accuracy: 0.9980 - loss: 0.0059 - val_accuracy: 0.9905 - val_loss: 0.0625 - learning_rate: 1.0000e-05\n",
      "Epoch 38/50\n",
      "\u001b[1m525/525\u001b[0m \u001b[32m━━━━━━━━━━━━━━━━━━━━\u001b[0m\u001b[37m\u001b[0m \u001b[1m2s\u001b[0m 3ms/step - accuracy: 0.9985 - loss: 0.0052 - val_accuracy: 0.9905 - val_loss: 0.0629 - learning_rate: 1.0000e-05\n",
      "Epoch 39/50\n",
      "\u001b[1m525/525\u001b[0m \u001b[32m━━━━━━━━━━━━━━━━━━━━\u001b[0m\u001b[37m\u001b[0m \u001b[1m2s\u001b[0m 3ms/step - accuracy: 0.9979 - loss: 0.0057 - val_accuracy: 0.9904 - val_loss: 0.0625 - learning_rate: 1.0000e-05\n",
      "Epoch 40/50\n",
      "\u001b[1m525/525\u001b[0m \u001b[32m━━━━━━━━━━━━━━━━━━━━\u001b[0m\u001b[37m\u001b[0m \u001b[1m2s\u001b[0m 3ms/step - accuracy: 0.9979 - loss: 0.0060 - val_accuracy: 0.9904 - val_loss: 0.0632 - learning_rate: 1.0000e-05\n",
      "Epoch 41/50\n",
      "\u001b[1m525/525\u001b[0m \u001b[32m━━━━━━━━━━━━━━━━━━━━\u001b[0m\u001b[37m\u001b[0m \u001b[1m2s\u001b[0m 3ms/step - accuracy: 0.9985 - loss: 0.0052 - val_accuracy: 0.9904 - val_loss: 0.0635 - learning_rate: 1.0000e-05\n",
      "Epoch 42/50\n",
      "\u001b[1m525/525\u001b[0m \u001b[32m━━━━━━━━━━━━━━━━━━━━\u001b[0m\u001b[37m\u001b[0m \u001b[1m2s\u001b[0m 3ms/step - accuracy: 0.9973 - loss: 0.0065 - val_accuracy: 0.9904 - val_loss: 0.0636 - learning_rate: 1.0000e-05\n",
      "Epoch 43/50\n",
      "\u001b[1m525/525\u001b[0m \u001b[32m━━━━━━━━━━━━━━━━━━━━\u001b[0m\u001b[37m\u001b[0m \u001b[1m2s\u001b[0m 3ms/step - accuracy: 0.9981 - loss: 0.0055 - val_accuracy: 0.9904 - val_loss: 0.0637 - learning_rate: 1.0000e-05\n",
      "Epoch 44/50\n",
      "\u001b[1m525/525\u001b[0m \u001b[32m━━━━━━━━━━━━━━━━━━━━\u001b[0m\u001b[37m\u001b[0m \u001b[1m2s\u001b[0m 3ms/step - accuracy: 0.9982 - loss: 0.0053 - val_accuracy: 0.9904 - val_loss: 0.0636 - learning_rate: 1.0000e-05\n",
      "Epoch 45/50\n",
      "\u001b[1m525/525\u001b[0m \u001b[32m━━━━━━━━━━━━━━━━━━━━\u001b[0m\u001b[37m\u001b[0m \u001b[1m2s\u001b[0m 3ms/step - accuracy: 0.9978 - loss: 0.0059 - val_accuracy: 0.9904 - val_loss: 0.0636 - learning_rate: 1.0000e-05\n",
      "Epoch 46/50\n",
      "\u001b[1m525/525\u001b[0m \u001b[32m━━━━━━━━━━━━━━━━━━━━\u001b[0m\u001b[37m\u001b[0m \u001b[1m2s\u001b[0m 3ms/step - accuracy: 0.9985 - loss: 0.0047 - val_accuracy: 0.9904 - val_loss: 0.0636 - learning_rate: 1.0000e-05\n",
      "Epoch 47/50\n",
      "\u001b[1m525/525\u001b[0m \u001b[32m━━━━━━━━━━━━━━━━━━━━\u001b[0m\u001b[37m\u001b[0m \u001b[1m2s\u001b[0m 3ms/step - accuracy: 0.9976 - loss: 0.0069 - val_accuracy: 0.9904 - val_loss: 0.0642 - learning_rate: 1.0000e-05\n",
      "Epoch 48/50\n",
      "\u001b[1m525/525\u001b[0m \u001b[32m━━━━━━━━━━━━━━━━━━━━\u001b[0m\u001b[37m\u001b[0m \u001b[1m2s\u001b[0m 3ms/step - accuracy: 0.9982 - loss: 0.0052 - val_accuracy: 0.9905 - val_loss: 0.0641 - learning_rate: 1.0000e-05\n",
      "Epoch 49/50\n",
      "\u001b[1m525/525\u001b[0m \u001b[32m━━━━━━━━━━━━━━━━━━━━\u001b[0m\u001b[37m\u001b[0m \u001b[1m2s\u001b[0m 3ms/step - accuracy: 0.9985 - loss: 0.0048 - val_accuracy: 0.9904 - val_loss: 0.0649 - learning_rate: 1.0000e-05\n",
      "Epoch 50/50\n",
      "\u001b[1m525/525\u001b[0m \u001b[32m━━━━━━━━━━━━━━━━━━━━\u001b[0m\u001b[37m\u001b[0m \u001b[1m2s\u001b[0m 3ms/step - accuracy: 0.9982 - loss: 0.0053 - val_accuracy: 0.9904 - val_loss: 0.0644 - learning_rate: 1.0000e-05\n",
      "Fold Validation Accuracy: 99.07%\n",
      "Mean Validation Accuracy across folds: 99.07%\n",
      "Standard Deviation of Validation Accuracy across folds: 0.00%\n"
     ]
    }
   ],
   "source": [
    " model.compile(optimizer='adam', loss='categorical_crossentropy', metrics=['accuracy'])\n",
    "\n",
    "# Define checkpoint to save best model based on validation accuracy\n",
    "checkpoint = ModelCheckpoint('best_model_fold.keras', monitor='val_accuracy', \n",
    "                             save_best_only=True, mode='max')\n",
    "\n",
    "reduce_lr = ReduceLROnPlateau(monitor='val_loss', factor=0.5, patience=3, min_lr=0.00001)\n",
    "early_stopping = EarlyStopping(monitor='val_loss', patience=5, restore_best_weights=True)\n",
    "\n",
    "def exp_decay(epoch):\n",
    "    lrate = learning_rate * np.exp(-decay_rate*epoch)\n",
    "    return lrate\n",
    "\n",
    "loss_history = History()\n",
    "lr_rate = LearningRateScheduler(exp_decay)\n",
    "callbacks_list = [loss_history, lr_rate, early_stopping, reduce_lr]\n",
    "                               \n",
    "\n",
    "# Train the model\n",
    "history = model.fit(X_train_fold, y_train_fold, epochs=50, batch_size=64, \n",
    "                    validation_data=(X_val_fold, y_val_fold), callbacks=[checkpoint, reduce_lr])\n",
    "\n",
    "# Load the best model and evaluate on the validation set\n",
    "model.load_weights('best_model_fold.keras')\n",
    "scores = model.evaluate(X_val_fold, y_val_fold, verbose=0)\n",
    "print(f\"Fold Validation Accuracy: {scores[1] * 100:.2f}%\")\n",
    "\n",
    "# Save validation accuracy for this fold\n",
    "fold_accuracies.append(scores[1])\n",
    "\n",
    "# After all folds, calculate the mean and std of validation accuracy\n",
    "mean_accuracy = np.mean(fold_accuracies)\n",
    "std_accuracy = np.std(fold_accuracies)\n",
    "\n",
    "print(f\"Mean Validation Accuracy across folds: {mean_accuracy * 100:.2f}%\")\n",
    "print(f\"Standard Deviation of Validation Accuracy across folds: {std_accuracy * 100:.2f}%\")\n"
   ]
  },
  {
   "cell_type": "code",
   "execution_count": 8,
   "id": "31ba4369",
   "metadata": {
    "execution": {
     "iopub.execute_input": "2024-09-19T11:54:55.029687Z",
     "iopub.status.busy": "2024-09-19T11:54:55.029308Z",
     "iopub.status.idle": "2024-09-19T11:54:57.280483Z",
     "shell.execute_reply": "2024-09-19T11:54:57.279411Z"
    },
    "papermill": {
     "duration": 2.384881,
     "end_time": "2024-09-19T11:54:57.282541",
     "exception": false,
     "start_time": "2024-09-19T11:54:54.897660",
     "status": "completed"
    },
    "tags": []
   },
   "outputs": [
    {
     "name": "stdout",
     "output_type": "stream",
     "text": [
      "\u001b[1m875/875\u001b[0m \u001b[32m━━━━━━━━━━━━━━━━━━━━\u001b[0m\u001b[37m\u001b[0m \u001b[1m1s\u001b[0m 1ms/step\n"
     ]
    },
    {
     "data": {
      "text/html": [
       "<div>\n",
       "<style scoped>\n",
       "    .dataframe tbody tr th:only-of-type {\n",
       "        vertical-align: middle;\n",
       "    }\n",
       "\n",
       "    .dataframe tbody tr th {\n",
       "        vertical-align: top;\n",
       "    }\n",
       "\n",
       "    .dataframe thead th {\n",
       "        text-align: right;\n",
       "    }\n",
       "</style>\n",
       "<table border=\"1\" class=\"dataframe\">\n",
       "  <thead>\n",
       "    <tr style=\"text-align: right;\">\n",
       "      <th></th>\n",
       "      <th>ImageId</th>\n",
       "      <th>Label</th>\n",
       "    </tr>\n",
       "  </thead>\n",
       "  <tbody>\n",
       "    <tr>\n",
       "      <th>0</th>\n",
       "      <td>1</td>\n",
       "      <td>2</td>\n",
       "    </tr>\n",
       "    <tr>\n",
       "      <th>1</th>\n",
       "      <td>2</td>\n",
       "      <td>0</td>\n",
       "    </tr>\n",
       "    <tr>\n",
       "      <th>2</th>\n",
       "      <td>3</td>\n",
       "      <td>9</td>\n",
       "    </tr>\n",
       "    <tr>\n",
       "      <th>3</th>\n",
       "      <td>4</td>\n",
       "      <td>9</td>\n",
       "    </tr>\n",
       "    <tr>\n",
       "      <th>4</th>\n",
       "      <td>5</td>\n",
       "      <td>3</td>\n",
       "    </tr>\n",
       "  </tbody>\n",
       "</table>\n",
       "</div>"
      ],
      "text/plain": [
       "   ImageId  Label\n",
       "0        1      2\n",
       "1        2      0\n",
       "2        3      9\n",
       "3        4      9\n",
       "4        5      3"
      ]
     },
     "execution_count": 8,
     "metadata": {},
     "output_type": "execute_result"
    }
   ],
   "source": [
    "# After K-fold validation, make predictions on test data\n",
    "X_test = test_data / 255.0\n",
    "X_test = X_test.values.reshape(-1, 28, 28, 1)\n",
    "\n",
    "model.load_weights('best_model_fold.keras')  # Load the best model from one of the folds\n",
    "predictions = model.predict(X_test)\n",
    "predicted_labels = np.argmax(predictions, axis=1)\n",
    "\n",
    "# Prepare the submission dataframe\n",
    "digit_recognizer_submission = pd.DataFrame({'ImageId': np.arange(1, len(predicted_labels) + 1),\n",
    "                                            'Label': predicted_labels})\n",
    "digit_recognizer_submission.to_csv('digit_recognizer_CNN_K-Fold.csv', index=False)\n",
    "digit_recognizer_submission.head()"
   ]
  },
  {
   "cell_type": "code",
   "execution_count": 9,
   "id": "56f0fa17",
   "metadata": {
    "execution": {
     "iopub.execute_input": "2024-09-19T11:54:57.553262Z",
     "iopub.status.busy": "2024-09-19T11:54:57.552630Z",
     "iopub.status.idle": "2024-09-19T11:54:58.114884Z",
     "shell.execute_reply": "2024-09-19T11:54:58.113965Z"
    },
    "papermill": {
     "duration": 0.699579,
     "end_time": "2024-09-19T11:54:58.116838",
     "exception": false,
     "start_time": "2024-09-19T11:54:57.417259",
     "status": "completed"
    },
    "tags": []
   },
   "outputs": [
    {
     "data": {
      "image/png": "[encoded data removed]",
      "text/plain": [
       "<Figure size 640x480 with 1 Axes>"
      ]
     },
     "metadata": {},
     "output_type": "display_data"
    },
    {
     "data": {
      "image/png": "[encoded data removed]",
      "text/plain": [
       "<Figure size 640x480 with 1 Axes>"
      ]
     },
     "metadata": {},
     "output_type": "display_data"
    }
   ],
   "source": [
    "# Plot training & validation accuracy values\n",
    "plt.plot(history.history['accuracy'], label='Train Accuracy')\n",
    "plt.plot(history.history['val_accuracy'], label='Validation Accuracy')\n",
    "plt.title('Model Accuracy per Epoch')\n",
    "plt.ylabel('Accuracy')\n",
    "plt.xlabel('Epoch')\n",
    "plt.legend(loc='upper left')\n",
    "plt.show()\n",
    "\n",
    "# Plot training & validation loss values\n",
    "plt.plot(history.history['loss'])\n",
    "plt.plot(history.history['val_loss'])\n",
    "plt.title('Model loss')\n",
    "plt.ylabel('Loss')\n",
    "plt.xlabel('Epoch')\n",
    "plt.legend(['Train', 'Validation'], loc='upper left')\n",
    "plt.show()"
   ]
  }
 ],
 "metadata": {
  "kaggle": {
   "accelerator": "gpu",
   "dataSources": [
    {
     "databundleVersionId": 861823,
     "sourceId": 3004,
     "sourceType": "competition"
    }
   ],
   "dockerImageVersionId": 30762,
   "isGpuEnabled": true,
   "isInternetEnabled": true,
   "language": "python",
   "sourceType": "notebook"
  },
  "kernelspec": {
   "display_name": "Python 3",
   "language": "python",
   "name": "python3"
  },
  "language_info": {
   "codemirror_mode": {
    "name": "ipython",
    "version": 3
   },
   "file_extension": ".py",
   "mimetype": "text/x-python",
   "name": "python",
   "nbconvert_exporter": "python",
   "pygments_lexer": "ipython3",
   "version": "3.10.14"
  },
  "papermill": {
   "default_parameters": {},
   "duration": 125.726958,
   "end_time": "2024-09-19T11:55:00.934476",
   "environment_variables": {},
   "exception": null,
   "input_path": "__notebook__.ipynb",
   "output_path": "__notebook__.ipynb",
   "parameters": {},
   "start_time": "2024-09-19T11:52:55.207518",
   "version": "2.6.0"
  }
 },
 "nbformat": 4,
 "nbformat_minor": 5
}
